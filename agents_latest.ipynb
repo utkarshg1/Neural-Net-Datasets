{
  "nbformat": 4,
  "nbformat_minor": 0,
  "metadata": {
    "colab": {
      "provenance": [],
      "authorship_tag": "ABX9TyNKbo7XX5vAeTC8VqsZRP8R",
      "include_colab_link": true
    },
    "kernelspec": {
      "name": "python3",
      "display_name": "Python 3"
    },
    "language_info": {
      "name": "python"
    }
  },
  "cells": [
    {
      "cell_type": "markdown",
      "metadata": {
        "id": "view-in-github",
        "colab_type": "text"
      },
      "source": [
        "<a href=\"https://colab.research.google.com/github/utkarshg1/Neural-Net-Datasets/blob/main/agents_latest.ipynb\" target=\"_parent\"><img src=\"https://colab.research.google.com/assets/colab-badge.svg\" alt=\"Open In Colab\"/></a>"
      ]
    },
    {
      "cell_type": "code",
      "source": [
        "!pip install -U langchain langgraph langchain-tavily langchain-groq"
      ],
      "metadata": {
        "colab": {
          "base_uri": "https://localhost:8080/"
        },
        "id": "GLs8YMETZHpy",
        "outputId": "28dbb56b-9f7a-4be0-a6a3-ed80d835e244"
      },
      "execution_count": 1,
      "outputs": [
        {
          "output_type": "stream",
          "name": "stdout",
          "text": [
            "Requirement already satisfied: langchain in /usr/local/lib/python3.12/dist-packages (0.3.27)\n",
            "Requirement already satisfied: langgraph in /usr/local/lib/python3.12/dist-packages (0.6.7)\n",
            "Requirement already satisfied: langchain-tavily in /usr/local/lib/python3.12/dist-packages (0.2.11)\n",
            "Requirement already satisfied: langchain-groq in /usr/local/lib/python3.12/dist-packages (0.3.8)\n",
            "Requirement already satisfied: langchain-core<1.0.0,>=0.3.72 in /usr/local/lib/python3.12/dist-packages (from langchain) (0.3.76)\n",
            "Requirement already satisfied: langchain-text-splitters<1.0.0,>=0.3.9 in /usr/local/lib/python3.12/dist-packages (from langchain) (0.3.11)\n",
            "Requirement already satisfied: langsmith>=0.1.17 in /usr/local/lib/python3.12/dist-packages (from langchain) (0.4.28)\n",
            "Requirement already satisfied: pydantic<3.0.0,>=2.7.4 in /usr/local/lib/python3.12/dist-packages (from langchain) (2.11.9)\n",
            "Requirement already satisfied: SQLAlchemy<3,>=1.4 in /usr/local/lib/python3.12/dist-packages (from langchain) (2.0.43)\n",
            "Requirement already satisfied: requests<3,>=2 in /usr/local/lib/python3.12/dist-packages (from langchain) (2.32.4)\n",
            "Requirement already satisfied: PyYAML>=5.3 in /usr/local/lib/python3.12/dist-packages (from langchain) (6.0.2)\n",
            "Requirement already satisfied: langgraph-checkpoint<3.0.0,>=2.1.0 in /usr/local/lib/python3.12/dist-packages (from langgraph) (2.1.1)\n",
            "Requirement already satisfied: langgraph-prebuilt<0.7.0,>=0.6.0 in /usr/local/lib/python3.12/dist-packages (from langgraph) (0.6.4)\n",
            "Requirement already satisfied: langgraph-sdk<0.3.0,>=0.2.2 in /usr/local/lib/python3.12/dist-packages (from langgraph) (0.2.9)\n",
            "Requirement already satisfied: xxhash>=3.5.0 in /usr/local/lib/python3.12/dist-packages (from langgraph) (3.5.0)\n",
            "Requirement already satisfied: aiohttp<4.0.0,>=3.11.14 in /usr/local/lib/python3.12/dist-packages (from langchain-tavily) (3.12.15)\n",
            "Requirement already satisfied: groq<1,>=0.30.0 in /usr/local/lib/python3.12/dist-packages (from langchain-groq) (0.31.1)\n",
            "Requirement already satisfied: aiohappyeyeballs>=2.5.0 in /usr/local/lib/python3.12/dist-packages (from aiohttp<4.0.0,>=3.11.14->langchain-tavily) (2.6.1)\n",
            "Requirement already satisfied: aiosignal>=1.4.0 in /usr/local/lib/python3.12/dist-packages (from aiohttp<4.0.0,>=3.11.14->langchain-tavily) (1.4.0)\n",
            "Requirement already satisfied: attrs>=17.3.0 in /usr/local/lib/python3.12/dist-packages (from aiohttp<4.0.0,>=3.11.14->langchain-tavily) (25.3.0)\n",
            "Requirement already satisfied: frozenlist>=1.1.1 in /usr/local/lib/python3.12/dist-packages (from aiohttp<4.0.0,>=3.11.14->langchain-tavily) (1.7.0)\n",
            "Requirement already satisfied: multidict<7.0,>=4.5 in /usr/local/lib/python3.12/dist-packages (from aiohttp<4.0.0,>=3.11.14->langchain-tavily) (6.6.4)\n",
            "Requirement already satisfied: propcache>=0.2.0 in /usr/local/lib/python3.12/dist-packages (from aiohttp<4.0.0,>=3.11.14->langchain-tavily) (0.3.2)\n",
            "Requirement already satisfied: yarl<2.0,>=1.17.0 in /usr/local/lib/python3.12/dist-packages (from aiohttp<4.0.0,>=3.11.14->langchain-tavily) (1.20.1)\n",
            "Requirement already satisfied: anyio<5,>=3.5.0 in /usr/local/lib/python3.12/dist-packages (from groq<1,>=0.30.0->langchain-groq) (4.10.0)\n",
            "Requirement already satisfied: distro<2,>=1.7.0 in /usr/local/lib/python3.12/dist-packages (from groq<1,>=0.30.0->langchain-groq) (1.9.0)\n",
            "Requirement already satisfied: httpx<1,>=0.23.0 in /usr/local/lib/python3.12/dist-packages (from groq<1,>=0.30.0->langchain-groq) (0.28.1)\n",
            "Requirement already satisfied: sniffio in /usr/local/lib/python3.12/dist-packages (from groq<1,>=0.30.0->langchain-groq) (1.3.1)\n",
            "Requirement already satisfied: typing-extensions<5,>=4.10 in /usr/local/lib/python3.12/dist-packages (from groq<1,>=0.30.0->langchain-groq) (4.15.0)\n",
            "Requirement already satisfied: tenacity!=8.4.0,<10.0.0,>=8.1.0 in /usr/local/lib/python3.12/dist-packages (from langchain-core<1.0.0,>=0.3.72->langchain) (8.5.0)\n",
            "Requirement already satisfied: jsonpatch<2.0,>=1.33 in /usr/local/lib/python3.12/dist-packages (from langchain-core<1.0.0,>=0.3.72->langchain) (1.33)\n",
            "Requirement already satisfied: packaging>=23.2 in /usr/local/lib/python3.12/dist-packages (from langchain-core<1.0.0,>=0.3.72->langchain) (25.0)\n",
            "Requirement already satisfied: ormsgpack>=1.10.0 in /usr/local/lib/python3.12/dist-packages (from langgraph-checkpoint<3.0.0,>=2.1.0->langgraph) (1.10.0)\n",
            "Requirement already satisfied: orjson>=3.10.1 in /usr/local/lib/python3.12/dist-packages (from langgraph-sdk<0.3.0,>=0.2.2->langgraph) (3.11.3)\n",
            "Requirement already satisfied: requests-toolbelt>=1.0.0 in /usr/local/lib/python3.12/dist-packages (from langsmith>=0.1.17->langchain) (1.0.0)\n",
            "Requirement already satisfied: zstandard>=0.23.0 in /usr/local/lib/python3.12/dist-packages (from langsmith>=0.1.17->langchain) (0.25.0)\n",
            "Requirement already satisfied: annotated-types>=0.6.0 in /usr/local/lib/python3.12/dist-packages (from pydantic<3.0.0,>=2.7.4->langchain) (0.7.0)\n",
            "Requirement already satisfied: pydantic-core==2.33.2 in /usr/local/lib/python3.12/dist-packages (from pydantic<3.0.0,>=2.7.4->langchain) (2.33.2)\n",
            "Requirement already satisfied: typing-inspection>=0.4.0 in /usr/local/lib/python3.12/dist-packages (from pydantic<3.0.0,>=2.7.4->langchain) (0.4.1)\n",
            "Requirement already satisfied: charset_normalizer<4,>=2 in /usr/local/lib/python3.12/dist-packages (from requests<3,>=2->langchain) (3.4.3)\n",
            "Requirement already satisfied: idna<4,>=2.5 in /usr/local/lib/python3.12/dist-packages (from requests<3,>=2->langchain) (3.10)\n",
            "Requirement already satisfied: urllib3<3,>=1.21.1 in /usr/local/lib/python3.12/dist-packages (from requests<3,>=2->langchain) (2.5.0)\n",
            "Requirement already satisfied: certifi>=2017.4.17 in /usr/local/lib/python3.12/dist-packages (from requests<3,>=2->langchain) (2025.8.3)\n",
            "Requirement already satisfied: greenlet>=1 in /usr/local/lib/python3.12/dist-packages (from SQLAlchemy<3,>=1.4->langchain) (3.2.4)\n",
            "Requirement already satisfied: httpcore==1.* in /usr/local/lib/python3.12/dist-packages (from httpx<1,>=0.23.0->groq<1,>=0.30.0->langchain-groq) (1.0.9)\n",
            "Requirement already satisfied: h11>=0.16 in /usr/local/lib/python3.12/dist-packages (from httpcore==1.*->httpx<1,>=0.23.0->groq<1,>=0.30.0->langchain-groq) (0.16.0)\n",
            "Requirement already satisfied: jsonpointer>=1.9 in /usr/local/lib/python3.12/dist-packages (from jsonpatch<2.0,>=1.33->langchain-core<1.0.0,>=0.3.72->langchain) (3.0.0)\n"
          ]
        }
      ]
    },
    {
      "cell_type": "code",
      "execution_count": 2,
      "metadata": {
        "id": "VxpxLINeXvq7"
      },
      "outputs": [],
      "source": [
        "import os\n",
        "from google.colab import userdata\n",
        "os.environ[\"GROQ_API_KEY\"] = userdata.get('GROQ_API_KEY')\n",
        "os.environ[\"TAVILY_API_KEY\"] = userdata.get('TAVILY_API_KEY')"
      ]
    },
    {
      "cell_type": "code",
      "source": [
        "from langchain_groq import ChatGroq\n",
        "from langchain_tavily import TavilySearch\n",
        "from langgraph.checkpoint.memory import MemorySaver\n",
        "from langgraph.prebuilt import create_react_agent\n",
        "from langchain_core.tools import tool\n",
        "\n",
        "# create custom tools\n",
        "@tool\n",
        "def calculate_emi(p: str, n: str, r: str)-> dict[str, float]:\n",
        "  \"\"\"\n",
        "  This tool calculates emi, interest and amount for given\n",
        "  p: principal in INR\n",
        "  n: Number of years\n",
        "  r: Rate of interst in %p.a.\n",
        "  \"\"\"\n",
        "  p = float(p)\n",
        "  n = float(n)\n",
        "  r = float(r)\n",
        "  n = n*12\n",
        "  r = r/1200\n",
        "  x = (1 + r)**n\n",
        "  emi = p*r*x/(x - 1)\n",
        "  amt = emi*n\n",
        "  i = amt - p\n",
        "  return {\n",
        "      \"emi\": emi,\n",
        "      \"amount\": amt,\n",
        "      \"interest\": i\n",
        "  }\n",
        "\n",
        "# create agent\n",
        "memory = MemorySaver()\n",
        "model = ChatGroq(model=\"llama-3.3-70b-versatile\")\n",
        "search = TavilySearch()\n",
        "tools = [search, calculate_emi]\n",
        "agent_executor = create_react_agent(model, tools, checkpointer=memory)"
      ],
      "metadata": {
        "id": "fh_O8CcVZAUy"
      },
      "execution_count": 3,
      "outputs": []
    },
    {
      "cell_type": "code",
      "source": [
        "# Use the agent\n",
        "config = {\"configurable\": {\"thread_id\": \"abc123\"}}\n",
        "\n",
        "input_message = {\n",
        "    \"role\": \"user\",\n",
        "    \"content\": \"Can you search for temperature in pune today?\",\n",
        "}\n",
        "for step in agent_executor.stream(\n",
        "    {\"messages\": [input_message]}, config, stream_mode=\"values\"\n",
        "):\n",
        "    step[\"messages\"][-1].pretty_print()"
      ],
      "metadata": {
        "colab": {
          "base_uri": "https://localhost:8080/"
        },
        "id": "CZ3aqRn2bbd3",
        "outputId": "9eeefaac-384d-4163-9784-8891e1d8ebac"
      },
      "execution_count": 4,
      "outputs": [
        {
          "output_type": "stream",
          "name": "stdout",
          "text": [
            "================================\u001b[1m Human Message \u001b[0m=================================\n",
            "\n",
            "Can you search for temperature in pune today?\n",
            "==================================\u001b[1m Ai Message \u001b[0m==================================\n",
            "Tool Calls:\n",
            "  tavily_search (zt67c0kfb)\n",
            " Call ID: zt67c0kfb\n",
            "  Args:\n",
            "    query: Pune temperature today\n",
            "    search_depth: basic\n",
            "    topic: general\n",
            "=================================\u001b[1m Tool Message \u001b[0m=================================\n",
            "Name: tavily_search\n",
            "\n",
            "{\"query\": \"Pune temperature today\", \"follow_up_questions\": null, \"answer\": null, \"images\": [], \"results\": [{\"url\": \"https://timesofindia.indiatimes.com/weather/pune-weather-forecast-today/411002\", \"title\": \"Pune Weather Today, Pune Temperature Hourly and Weekly Forecast\", \"content\": \"Today's Weather in Pune: In Pune today, the weather is expected to be Cloudy with a maximum temperature of 28°C and a minimum of 21°C. Sunrise in Pune is\", \"score\": 0.93161833, \"raw_content\": null}, {\"url\": \"https://www.timeanddate.com/weather/india/pune\", \"title\": \"Weather for Pune, Maharashtra, India - Time and Date\", \"content\": \"Current weather in Pune and forecast for today, tomorrow, and next 14 days. ... Temperature, 70 °F, 76 °F, 82 °F, 73 °F, 70 °F, 76 °F, 80 °F. Overcast. Broken\", \"score\": 0.8724455, \"raw_content\": null}, {\"url\": \"https://weather.com/weather/today/l/cc4e93311b537126218a1d9a0dc33295fd3f3d0c8fe0965a4b8eab0fb00e7d39\", \"title\": \"Weather Forecast and Conditions for Pune, Maharashtra, India\", \"content\": \"Day 83° • Night 72°. Watch: Full Circle Rainbow Amazes Skydivers. Weather Today in Pune, Maharashtra, India. Feels Like75°. 6:23 am. 6:28 pm. High / Low. --/72°.\", \"score\": 0.84183896, \"raw_content\": null}, {\"url\": \"https://www.accuweather.com/en/in/pune/204848/current-weather/204848\", \"title\": \"Pune, Maharashtra, India Current Weather - AccuWeather\", \"content\": \"Current Weather. 4:43 AM. 71°F. Cloudy. RealFeel® 73°. Pleasant. RealFeel Guide. Pleasant. 63° to 81°. Most consider this temperature range ideal.\", \"score\": 0.8338803, \"raw_content\": null}, {\"url\": \"https://www.aqi.in/weather/india/maharashtra/pune\", \"title\": \"Pune Weather Conditions: Temperature | 30 Days Forecast - AQI.in\", \"content\": \"Current Temperature Level. 21 °C. Pleasant. CloudyFeels Like 21°CHumidity 93%. Pleasant temperature in Pune ... Temp. Condition. Humi. UV. Wind Speed\", \"score\": 0.78749067, \"raw_content\": null}], \"response_time\": 1.01, \"request_id\": \"12668110-0c3d-4184-82bc-72adb4ef07d6\"}\n",
            "==================================\u001b[1m Ai Message \u001b[0m==================================\n",
            "\n",
            "The current temperature in Pune today is around 28°C with a minimum of 21°C. The weather is expected to be cloudy.\n"
          ]
        }
      ]
    },
    {
      "cell_type": "code",
      "source": [
        "def get_response(query: str, thread_id: str):\n",
        "  config = {\"configurable\": {\"thread_id\": thread_id}}\n",
        "  input_message = {\n",
        "    \"role\": \"user\",\n",
        "    \"content\": query,\n",
        "  }\n",
        "  for step in agent_executor.stream(\n",
        "      {\"messages\": [input_message]}, config, stream_mode=\"values\"\n",
        "  ):\n",
        "      step[\"messages\"][-1].pretty_print()\n"
      ],
      "metadata": {
        "id": "nP4fMBt-bngS"
      },
      "execution_count": 5,
      "outputs": []
    },
    {
      "cell_type": "code",
      "source": [
        "get_response(\"Calculate emi for principal of 10_00_000 rate of interst of 8.1 % p.a. for 5 years\", \"abc123\")"
      ],
      "metadata": {
        "colab": {
          "base_uri": "https://localhost:8080/"
        },
        "id": "zseTBYDkdNGW",
        "outputId": "6965fecf-a04d-418a-b0b5-82d29733d958"
      },
      "execution_count": 6,
      "outputs": [
        {
          "output_type": "stream",
          "name": "stdout",
          "text": [
            "================================\u001b[1m Human Message \u001b[0m=================================\n",
            "\n",
            "Calculate emi for principal of 10_00_000 rate of interst of 8.1 % p.a. for 5 years\n",
            "==================================\u001b[1m Ai Message \u001b[0m==================================\n",
            "Tool Calls:\n",
            "  calculate_emi (1gng6bwpx)\n",
            " Call ID: 1gng6bwpx\n",
            "  Args:\n",
            "    n: 5\n",
            "    p: 1000000\n",
            "    r: 8.1\n",
            "=================================\u001b[1m Tool Message \u001b[0m=================================\n",
            "Name: calculate_emi\n",
            "\n",
            "{\"emi\": 20324.28652922556, \"amount\": 1219457.1917535337, \"interest\": 219457.19175353367}\n",
            "==================================\u001b[1m Ai Message \u001b[0m==================================\n",
            "\n",
            "The EMI for a principal amount of 10,00,000, an interest rate of 8.1% p.a., and a tenure of 5 years is approximately 20,324.29. The total amount to be paid is 12,19,457.19, and the total interest paid is 2,19,457.19.\n"
          ]
        }
      ]
    },
    {
      "cell_type": "code",
      "source": [
        "thread_id = \"abc123\"\n",
        "get_response(\"What do you think is sentiment of banking stocks in india\", thread_id)"
      ],
      "metadata": {
        "colab": {
          "base_uri": "https://localhost:8080/"
        },
        "id": "1z_OOpvadoNq",
        "outputId": "80291fbd-c99b-47d4-fe2c-6b04cf5d8b99"
      },
      "execution_count": 7,
      "outputs": [
        {
          "output_type": "stream",
          "name": "stdout",
          "text": [
            "================================\u001b[1m Human Message \u001b[0m=================================\n",
            "\n",
            "What do you think is sentiment of banking stocks in india\n",
            "==================================\u001b[1m Ai Message \u001b[0m==================================\n",
            "Tool Calls:\n",
            "  tavily_search (hc1mdbf3z)\n",
            " Call ID: hc1mdbf3z\n",
            "  Args:\n",
            "    query: sentiment of banking stocks in India\n",
            "    search_depth: advanced\n",
            "    topic: finance\n",
            "=================================\u001b[1m Tool Message \u001b[0m=================================\n",
            "Name: tavily_search\n",
            "\n",
            "{\"query\": \"sentiment of banking stocks in India\", \"follow_up_questions\": null, \"answer\": null, \"images\": [], \"results\": [{\"url\": \"https://www.bloomberg.com/news/articles/2025-07-21/india-market-buzz-reliance-sentiment-may-hinge-on-jio-moves\", \"title\": \"Investors Focus on Indian Bank Stocks After Earnings ...\", \"content\": \"*   [Software Updates](https://www.bloomberg.com/professional/support/customer-support/software-updates/?utm_source=bloomberg-menu&utm_medium=bcom) *   [About](https://www.bloomberg.com/company/?utm_source=bloomberg-menu&utm_medium=bcom) *   [Careers](https://www.bloomberg.com/company/what-we-do/?utm_source=bloomberg-menu&utm_medium=bcom) *   [Inclusion at Bloomberg](https://www.bloomberg.com/company/values/inclusion/?utm_source=bloomberg-menu&utm_medium=bcom) *   [Tech at Bloomberg](https://www.bloomberg.com/company/values/tech-at-bloomberg/?utm_source=bloomberg-menu&utm_medium=bcom) *   [Philanthropy](https://www.bloomberg.com/company/philanthropy/?utm_source=bloomberg-menu&utm_medium=bcom) *   [Sustainability](https://www.bloomberg.com/company/sustainability/?utm_source=bloomberg-menu&utm_medium=bcom) *   [Press Announcements](https://www.bloomberg.com/company/announcements/?utm_source=bloomberg-menu&utm_medium=bcom) *   [Press Contacts](https://www.bloomberg.com/company/press-contacts/?utm_source=bloomberg-menu&utm_medium=bcom) *   [Bloomberg Terminal](https://www.bloomberg.com/professional/products/bloomberg-terminal/?utm_source=bloomberg-menu&utm_medium=bcom) *   [Data](https://www.bloomberg.com/professional/products/data/?utm_source=bloomberg-menu&utm_medium=bcom) *   [Trading](https://www.bloomberg.com/professional/products/trading/?utm_source=bloomberg-menu&utm_medium=bcom) *   [Risk](https://www.bloomberg.com/professional/products/risk/?utm_source=bloomberg-menu&utm_medium=bcom) *   [Compliance](https://www.bloomberg.com/professional/products/compliance/?utm_source=bloomberg-menu&utm_medium=bcom) *   [Indices](https://www.bloomberg.com/professional/products/indices/?utm_source=bloomberg-menu&utm_medium=bcom) *   [Bloomberg Markets](https://www.bloomberg.com/markets/?utm_source=bloomberg-menu&utm_medium=bcom) *   [Bloomberg Businessweek](https://www.bloomberg.com/businessweek/?utm_source=bloomberg-menu&utm_medium=bcom) *   [Bloomberg Live Conferences](https://www.bloomberglive.com/?utm_source=bloomberg-menu&utm_medium=bcom) *   [Bloomberg Radio](https://www.bloombergradio.com/?utm_source=bloomberg-menu&utm_medium=bcom) *   [Bloomberg Television](https://www.bloomberg.com/live?utm_source=bloomberg-menu&utm_medium=bcom) *   [News Bureaus](https://www.bloomberg.com/company/news-bureaus/?utm_source=bloomberg-menu&utm_medium=bcom) *   [Bloomberg Media Distribution](https://www.bloomberg.com/distribution?utm_source=bloomberg-menu&utm_medium=bcom) *   [Advertising](https://www.bloombergmedia.com/?utm_source=bloomberg-menu&utm_medium=bcom) *   [About](https://www.bloomberg.com/company/?utm_source=bloomberg-menu&utm_medium=bcom) *   [Careers](https://www.bloomberg.com/company/what-we-do/?utm_source=bloomberg-menu&utm_medium=bcom) *   [Inclusion at Bloomberg](https://www.bloomberg.com/company/values/inclusion/?utm_source=bloomberg-menu&utm_medium=bcom) *   [Philanthropy](https://www.bloomberg.com/company/philanthropy/?utm_source=bloomberg-menu&utm_medium=bcom) *   [Sustainability](https://www.bloomberg.com/company/sustainability/?utm_source=bloomberg-menu&utm_medium=bcom) *   [Press Announcements](https://www.bloomberg.com/company/announcements/?utm_source=bloomberg-menu&utm_medium=bcom) *   [Press Contacts](https://www.bloomberg.com/company/press-contacts/?utm_source=bloomberg-menu&utm_medium=bcom) *   [Bloomberg Terminal](https://www.bloomberg.com/professional/products/bloomberg-terminal/?utm_source=bloomberg-menu&utm_medium=bcom) *   [Data](https://www.bloomberg.com/professional/products/data/?utm_source=bloomberg-menu&utm_medium=bcom) *   [Trading](https://www.bloomberg.com/professional/products/trading/?utm_source=bloomberg-menu&utm_medium=bcom) *   [Risk](https://www.bloomberg.com/professional/products/risk/?utm_source=bloomberg-menu&utm_medium=bcom) *   [Compliance](https://www.bloomberg.com/professional/products/compliance/?utm_source=bloomberg-menu&utm_medium=bcom) *   [Indices](https://www.bloomberg.com/professional/products/indices/?utm_source=bloomberg-menu&utm_medium=bcom) *   [Bloomberg Markets](https://www.bloomberg.com/markets/?utm_source=bloomberg-menu&utm_medium=bcom) *   [Bloomberg Businessweek](https://www.bloomberg.com/businessweek/?utm_source=bloomberg-menu&utm_medium=bcom) *   [Bloomberg Live Conferences](https://www.bloomberglive.com/?utm_source=bloomberg-menu&utm_medium=bcom) *   [Bloomberg Radio](https://www.bloombergradio.com/?utm_source=bloomberg-menu&utm_medium=bcom) *   [Bloomberg Television](https://www.bloomberg.com/live?utm_source=bloomberg-menu&utm_medium=bcom) *   [News Bureaus](https://www.bloomberg.com/company/news-bureaus/?utm_source=bloomberg-menu&utm_medium=bcom) *   [Bloomberg Media Distribution](https://www.bloomberg.com/distribution?utm_source=bloomberg-menu&utm_medium=bcom) *   [Advertising](https://www.bloombergmedia.com/?utm_source=bloomberg-menu&utm_medium=bcom) *   [Software Updates](https://www.bloomberg.com/professional/support/customer-support/software-updates/?utm_source=bloomberg-menu&utm_medium=bcom)\", \"score\": 0.6461259, \"raw_content\": null}, {\"url\": \"https://sg.finance.yahoo.com/news/indian-benchmarks-set-muted-start-024808975.html\", \"title\": \"HDFC Bank, ICICI Bank lead India's stock benchmarks ...\", \"content\": \"India's top two private banks, HDFC Bank and ICICI Bank, gained 2.2% and 2.8%, respectively, after posting stronger-than-expected June quarter\", \"score\": 0.57723385, \"raw_content\": null}, {\"url\": \"https://sg.finance.yahoo.com/news/indias-equity-benchmarks-open-higher-024010175.html\", \"title\": \"Financials, IT drag India's equity benchmarks to third ...\", \"content\": \"*   US English (Reuters) -India's equity benchmarks fell on Friday, logging a third straight weekly decline, as weak earnings from key financial and IT companies dampened sentiment while global trade uncertainty lingered. India's No. 3 IT company HCLTech lost 5.5% for the week after it cut its full-year operating margin forecast, dashing hopes of a near-term recovery in tech spending. *   D05.SI DBS Group Holdings Ltd   Equity SES   *   U11.SI United Overseas Bank Limited   Equity SES   *   Z74.SI Singapore Telecommunications Limited   Equity SES   *   F34.SI Wilmar International Limited   Equity SES   *   1H3.SI Clearbridge Health Limited 0.0050+0.0010(+25.00%)  *   505.SI AsiaMedic Limited 0.0130-0.0030(-18.75%)  *   U11.SI United Overseas Bank Limited 36.07+0.20(+0.56%)  *   Z74.SI Singapore Telecommunications Limited 3.9700+0.0500(+1.28%) \", \"score\": 0.432807, \"raw_content\": null}, {\"url\": \"https://www.bloomberg.com/news/articles/2025-04-09/india-market-buzz-bullish-wagers-build-on-bank-stocks-pre-rbi\", \"title\": \"Bullish Wagers Build on Bank Stocks Pre-RBI\", \"content\": \"With the RBI widely expected to cut rates today, traders have built bullish bets on banking stocks. Derivatives data show the cost of hedging against swings in\", \"score\": 0.40147716, \"raw_content\": null}, {\"url\": \"https://www.bloomberg.com/news/articles/2025-07-17/india-market-buzz-software-stocks-struggle-bleeding-may-end\", \"title\": \"India's Nifty IT Index Set to Underperform on Weak Earnings\", \"content\": \"Markets Provide news feedback or report an error Send a tip to our reporters ### **Takeaways** by Bloomberg AISubscribe *Before the trading day starts we bring you a digest of the key news and events that are likely to move markets. Good morning, this is Chiranjivi Chakraborty, an equities reporter in Mumbai. Indian equities are likely to open with modest gains, buoyed by Wall Street’s overnight rally and positive trends in regional markets. Also later today, Axis Bank‘s earnings report will be closely watched, shifting the spotlight to the banking sector. Before it’s here, it’s on the Bloomberg Terminal HomeBTV+Market DataOpinionAudioOriginalsMagazineEvents News Work & Life WealthPursuitsBusinessweekCityLabSportsEqualityManagement & Work Market Data Register to read more on Bloomberg.com Register to unlock more content on Bloomberg.com\", \"score\": 0.34733838, \"raw_content\": null}], \"response_time\": 2.37, \"request_id\": \"2d16bc77-04f8-4289-ab14-bb7058df343e\"}\n",
            "==================================\u001b[1m Ai Message \u001b[0m==================================\n",
            "\n",
            "The sentiment of banking stocks in India is currently mixed, with some banks performing well and others facing challenges. HDFC Bank and ICICI Bank have gained 2.2% and 2.8%, respectively, after posting stronger-than-expected June quarter earnings. However, other banks such as Axis Bank are facing challenges and their earnings reports are being closely watched. The overall sentiment is cautious, with traders building bullish bets on banking stocks ahead of the RBI's rate cut decision.\n"
          ]
        }
      ]
    },
    {
      "cell_type": "code",
      "source": [
        "get_response(\"Can you tell me which sector will grow in upcoming decade in India?\", thread_id)"
      ],
      "metadata": {
        "colab": {
          "base_uri": "https://localhost:8080/"
        },
        "id": "BwLuOkpdfKut",
        "outputId": "747fe6b9-9e1c-456d-e624-5ce4384cfca9"
      },
      "execution_count": 9,
      "outputs": [
        {
          "output_type": "stream",
          "name": "stdout",
          "text": [
            "================================\u001b[1m Human Message \u001b[0m=================================\n",
            "\n",
            "Can you tell me which sector will grow in upcoming decade in India?\n",
            "==================================\u001b[1m Ai Message \u001b[0m==================================\n",
            "Tool Calls:\n",
            "  tavily_search (73rc2e2dx)\n",
            " Call ID: 73rc2e2dx\n",
            "  Args:\n",
            "    query: sectors to grow in India in the next decade\n",
            "    search_depth: advanced\n",
            "    topic: finance\n",
            "=================================\u001b[1m Tool Message \u001b[0m=================================\n",
            "Name: tavily_search\n",
            "\n",
            "{\"query\": \"sectors to grow in India in the next decade\", \"follow_up_questions\": null, \"answer\": null, \"images\": [], \"results\": [{\"url\": \"https://www.forbes.com/sites/sarwantsingh/2025/07/14/indias-economic-juggernaut-on-way-to-becoming-the-3rd-largest-economy/\", \"title\": \"India's Economic Juggernaut On Way To Becoming The ...\", \"content\": \"Urbanization and infrastructure development, expected to expand markets, boost productivity, attract investment, and create millions of new jobs, will be the central driver of India’s economic growth to 2035, making cities the primary engines of India’s economic ascent. India is poised for an industrial boom, and numerous sectors like **automotive, ICT, healthcare, chemicals, oil and gas, semiconductors, space and research, food and beverage** are expected to experience exceptional growth through 2030 and beyond. India's industrial future is not just about economic opportunities; it's about an exciting shift toward high-value, technology-driven growth that can create new jobs, fuel innovation, and position India as a leading global hub for manufacturing and services well into the future.\", \"score\": 0.8306082, \"raw_content\": null}, {\"url\": \"https://www.forbes.com/sites/investor-hub/article/top-sectors-growth-stocks-next-decade/\", \"title\": \"7 Top Sectors For Growth Stocks In The Next Decade\", \"content\": \"7 Attractive Growth Sectors For The Next Decade · 1. Artificial Intelligence (AI) · 2. Cloud Services · 3. Health Care · 4. E-Commerce · 5. Digital\", \"score\": 0.7128128, \"raw_content\": null}, {\"url\": \"https://finance.yahoo.com/news/indian-tech-sector-seen-growing-080602448.html\", \"title\": \"Indian tech sector growth seen higher in FY25, to cross $300 ...\", \"content\": \"Software exports, comprising services and sale of products to clients, are expected to grow 4.6% to $224.4 billion in fiscal year 2025, the\", \"score\": 0.6522641, \"raw_content\": null}, {\"url\": \"https://www.forbes.com/sites/sarwantsingh/2025/02/11/future-of-indian-auto-industry-to-2030/\", \"title\": \"Future Of Indian Auto Industry To 2030\", \"content\": \"India's PV motorization rate, currently the lowest among major economies, is projected to increase from 25 in 2020 and 33 in 2023 to 56 by 2032, though it can never hope to match Western countries Despite the growth and advances in the Indian automotive industry, India will never be able to catch China’s astronomical automotive industry market size, even over the next 15 years. Indian government policies, such as the Faster Adoption and Manufacturing of Electric Vehicles (FAME) II scheme, the Electric Mobility Promotion Scheme (EMPS), the PM Electric Drive Revolution in Innovative Vehicle Enhancement (PM E-DRIVE) scheme, and the Production-Linked Incentive (PLI) scheme for the automotive sector, will not only help companies focused on developing and manufacturing EVs and EV batteries but will also promote the localization of essential parts and components to create a stable supply and value chain within India fully exploiting strategies adopted by China.\", \"score\": 0.54594, \"raw_content\": null}, {\"url\": \"https://www.forbes.com/sites/gauravsharma/2025/01/28/is-indias-energy-sector-heading-for-a-big-investment-boom/\", \"title\": \"Is India's Energy Sector Heading For A Big Investment ...\", \"content\": \"Is India’s Energy Sector Heading For A Big Investment Boom? # Is India’s Energy Sector Heading For A Big Investment Boom? Many forecasters, including Morgan Stanley and Moody's believe India will require an investment range of $27 billion to $31 billion per year over the next five years to achieve the government's target of 500 GW of renewable energy capacity by 2030. Even a total of the lower range comes to $50 billion a year, more than twice the amount being courted by India for traditional energy investments. So the answer on the potential size of the market is clear — if the projected need is met by actual investment dollars, India's energy sector is in boom-town territory.\", \"score\": 0.49465415, \"raw_content\": null}], \"response_time\": 0.83, \"request_id\": \"01ea7ff7-53c1-4608-9b6b-5ff7781e6d28\"}\n",
            "==================================\u001b[1m Ai Message \u001b[0m==================================\n",
            "\n",
            "The sectors that are expected to grow in India in the next decade include:\n",
            "\n",
            "1. Automotive\n",
            "2. ICT (Information and Communication Technology)\n",
            "3. Healthcare\n",
            "4. Chemicals\n",
            "5. Oil and gas\n",
            "6. Semiconductors\n",
            "7. Space and research\n",
            "8. Food and beverage\n",
            "9. Artificial Intelligence (AI)\n",
            "10. Cloud Services\n",
            "11. E-Commerce\n",
            "12. Digital Payments\n",
            "13. Renewable Energy\n",
            "\n",
            "These sectors are expected to experience exceptional growth through 2030 and beyond, driven by factors such as urbanization, infrastructure development, and government policies.\n"
          ]
        }
      ]
    },
    {
      "cell_type": "code",
      "source": [
        "get_response(\"Can you search for AI agents and explain them in detail?\", thread_id)"
      ],
      "metadata": {
        "colab": {
          "base_uri": "https://localhost:8080/"
        },
        "id": "s3B28HJQfWcI",
        "outputId": "d07082d7-21d0-40ad-a24b-dbb824105436"
      },
      "execution_count": 12,
      "outputs": [
        {
          "output_type": "stream",
          "name": "stdout",
          "text": [
            "================================\u001b[1m Human Message \u001b[0m=================================\n",
            "\n",
            "Can you search for AI agents and explain them in detail?\n",
            "==================================\u001b[1m Ai Message \u001b[0m==================================\n",
            "Tool Calls:\n",
            "  tavily_search (vx7vhxrv2)\n",
            " Call ID: vx7vhxrv2\n",
            "  Args:\n",
            "    query: AI agents\n",
            "    search_depth: advanced\n",
            "    topic: general\n",
            "=================================\u001b[1m Tool Message \u001b[0m=================================\n",
            "Name: tavily_search\n",
            "\n",
            "{\"query\": \"AI agents\", \"follow_up_questions\": null, \"answer\": null, \"images\": [], \"results\": [{\"url\": \"https://aws.amazon.com/what-is/ai-agents/\", \"title\": \"What are AI Agents? - Artificial Intelligence - AWS\", \"content\": \"An artificial intelligence (AI) agent is a software program that can interact with its environment, collect data, and use that data to perform self-directed tasks that meet predetermined goals. Humans set goals, but an AI agent independently chooses the best actions it needs to perform to achieve those goals. For example, consider a contact center AI agent that wants to resolve customer queries. The agent will automatically ask the customer different questions, look up information in internal [...] AI agents can work with other agents or human agents to achieve shared goals. They are capable of communicating, coordinating, and cooperating to perform tasks together. Their collaborative behavior often involves negotiation, sharing information, allocating tasks, and adapting to others' actions.\\n\\nFor example, multi-agent systems in healthcare can have agents specializing in specific tasks like diagnosis, preventive care, medicine scheduling, etc., for holistic patient care automation. [...] For example, cybersecurity agents collect data from third-party databases to remain aware of the latest security incidents.\\n\\n### Rationality\\n\\nAI agents are rational entities with reasoning capabilities. They combine data from their environment with domain knowledge and past context to make informed decisions, achieving optimal performance and results.\", \"score\": 0.93525803, \"raw_content\": null}, {\"url\": \"https://www.bcg.com/capabilities/artificial-intelligence/ai-agents\", \"title\": \"AI Agents: What They Are and Their Business Impact | BCG\", \"content\": \"Put simply, AI agents are artificial intelligence that use tools to accomplish goals. AI agents have the ability to remember across tasks and changing states; they can use one or more AI models to complete tasks; and they can decide when to access internal or external systems on a user’s behalf. This enables AI agents to make decisions and take actions autonomously with minimal human oversight. [...] What Do AI Agents Do?\\n\\nAI agents represent a new era in artificial intelligence, far surpassing traditional software. Unlike static tools, these intelligent software agents act as autonomous, decision-making entities. They analyze data, plan tasks, take action, and continuously adapt—often in real time. Here’s what makes them so powerful: [...] Imagine a teammate that works tirelessly, learns continuously, and adapts to your needs. That’s the promise of AI agents. With the ability to observe, plan, and act autonomously, AI agents open a new chapter of end-to-end transformation across industries—streamlining processes, driving data insights, and augmenting human potential like never before.\", \"score\": 0.933969, \"raw_content\": null}, {\"url\": \"https://www.geeksforgeeks.org/artificial-intelligence/agents-artificial-intelligence/\", \"title\": \"Agents in AI - GeeksforGeeks\", \"content\": \"# Agents in AI\\n\\nLast Updated : \\n14 Aug, 2025\\n\\nSuggest changes\\n\\n230 Likes\\n\\nAn artificial intelligence (AI) agent is a software program that can interact with its environment, collect data and use that data to perform self-directed tasks that meet predetermined goals. Humans set goals, but an AI agent independently chooses the best actions it needs to perform to achieve those goals. [...] ## AI Agent Classification\\n\\nAn agent is a system designed to perceive its environment, make decisions and take actions to achieve specific goals. Agents operate autonomously, without direct human control and can be classified based on their behavior, environment and number of interacting agents.\", \"score\": 0.9325087, \"raw_content\": null}, {\"url\": \"https://www.ibm.com/think/topics/ai-agents\", \"title\": \"What Are AI Agents? | IBM\", \"content\": \"# What are AI agents?\\n\\n## Authors\\n\\nAnna Gutowska \\n\\nAI Engineer, Developer Advocate\\n\\n## What are AI agents?\\n\\nAn artificial intelligence (AI) agent is a system that autonomously performs tasks by designing workflows with available tools.\\n\\nAI agents can encompass a wide range of functions beyond natural language processing including decision-making, problem-solving, interacting with external environments and performing actions. [...] With the ongoing advancements in generative AI and machine learning, there is a growing interest in workflow optimization through AI, or intelligent automation. AI agents are AI tools that can automate complex tasks that would otherwise require human resources. This shift translates to goals being reached inexpensively, rapidly and at scale. In turn, these advancements mean human agents do not need to provide direction to the AI assistant for creating and navigating its tasks. [...] At the core of AI agents are large language models (LLMs). For this reason, AI agents are often referred to as LLM agents. Traditional LLMs, such as IBM® Granite® models, produce their responses based on the data used to train them and are bounded by knowledge and reasoning limitations. In contrast, agentic technology uses tool calling on the backend to obtain up-to-date information, optimize workflows and create subtasks autonomously to achieve complex goals.\", \"score\": 0.93206495, \"raw_content\": null}, {\"url\": \"https://www.newhorizons.com/resources/blog/types-of-ai-agents\", \"title\": \"Exploring Different Types of AI Agents and Their Uses - New Horizons\", \"content\": \"Artificial Intelligence (AI) has transformed how we interact with technology, and at the core of many of these innovations are AI agents. But what exactly is an AI agent? Simply put, an AI agent is an autonomous entity that perceives its environment, processes information, and takes actions to achieve specific goals. These agents operate independently or in collaboration with other agents to solve tasks that traditionally required human intelligence, such as decision-making, problem-solving, [...] The world of AI agents is vast, evolving, and full of potential to transform industries and everyday life. From simple reflex agents to sophisticated hybrid models, these intelligent systems are revolutionizing how we interact with technology and solve complex challenges. Whether optimizing logistics, enhancing customer experiences, or enabling breakthroughs in healthcare, AI agents are reshaping the future. [...] AI Agents Transform Life and Work: AI agents automate tasks and drive innovation across industries.\\n   Diverse Types for Different Needs: From reflex to learning agents, each type fits specific applications.\\n   Hybrid Models Lead Innovation: Hybrid agents balance goals, adaptability, and efficiency, enabling advanced solutions.\\n\\nDefining AI Agents\", \"score\": 0.92442214, \"raw_content\": null}], \"response_time\": 1.66, \"request_id\": \"ea35a0b5-55e9-44b3-93c8-bb0bebab97b5\"}\n",
            "==================================\u001b[1m Ai Message \u001b[0m==================================\n",
            "\n",
            "AI agents are software programs that can interact with their environment, collect data, and use that data to perform self-directed tasks that meet predetermined goals. They are autonomous entities that can make decisions and take actions to achieve specific goals, often with minimal human oversight. AI agents can be classified based on their behavior, environment, and number of interacting agents, and they can encompass a wide range of functions beyond natural language processing, including decision-making, problem-solving, interacting with external environments, and performing actions.\n",
            "\n",
            "There are different types of AI agents, including reflex agents, learning agents, and hybrid models. Reflex agents are simple agents that react to specific situations, while learning agents can learn from experience and adapt to new situations. Hybrid models combine different approaches to achieve advanced solutions.\n",
            "\n",
            "AI agents have the potential to transform industries and everyday life by automating tasks, driving innovation, and enabling breakthroughs in areas such as healthcare and customer experience. They can operate independently or in collaboration with other agents to solve complex challenges and achieve specific goals.\n",
            "\n",
            "Some examples of AI agents include:\n",
            "\n",
            "* Contact center AI agents that can resolve customer queries\n",
            "* Cybersecurity agents that can collect data from third-party databases to remain aware of the latest security incidents\n",
            "* AI agents in healthcare that can specialize in specific tasks such as diagnosis, preventive care, medicine scheduling, and more\n",
            "* AI agents in finance that can automate complex tasks such as data analysis, portfolio management, and risk assessment\n",
            "\n",
            "Overall, AI agents have the potential to revolutionize the way we interact with technology and solve complex challenges, and their development and application are expected to continue growing in the coming years.\n"
          ]
        }
      ]
    },
    {
      "cell_type": "code",
      "source": [
        "get_response(\"Generate a code in python to check if prime or not use efficient algorithm\", thread_id)"
      ],
      "metadata": {
        "colab": {
          "base_uri": "https://localhost:8080/"
        },
        "id": "3KCOGJOvfpw4",
        "outputId": "912c3d12-fa1b-48e6-ff55-57a2504a1bd4"
      },
      "execution_count": 14,
      "outputs": [
        {
          "output_type": "stream",
          "name": "stdout",
          "text": [
            "================================\u001b[1m Human Message \u001b[0m=================================\n",
            "\n",
            "Generate a code in python to check if prime or not use efficient algorithm\n",
            "==================================\u001b[1m Ai Message \u001b[0m==================================\n",
            "\n",
            "import math\n",
            "\n",
            "def is_prime(n):\n",
            "    if n <= 1:\n",
            "        return False\n",
            "    if n == 2:\n",
            "        return True\n",
            "    if n % 2 == 0:\n",
            "        return False\n",
            "    sqrt_n = math.isqrt(n)\n",
            "    for i in range(3, sqrt_n + 1, 2):\n",
            "        if n % i == 0:\n",
            "            return False\n",
            "    return True\n",
            "\n",
            "# Test the function\n",
            "print(is_prime(25))  # False\n",
            "print(is_prime(23))  # True\n",
            "print(is_prime(37))  # True\n",
            "print(is_prime(48))  # False\n"
          ]
        }
      ]
    },
    {
      "cell_type": "code",
      "source": [],
      "metadata": {
        "id": "qslcZzoQgRXP"
      },
      "execution_count": null,
      "outputs": []
    }
  ]
}